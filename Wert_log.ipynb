{
 "cells": [
  {
   "cell_type": "code",
   "execution_count": 147,
   "metadata": {},
   "outputs": [],
   "source": [
    "import time\n",
    "import numpy as np\n",
    "import pandas as pd\n",
    "import matplotlib.pyplot as plt\n",
    "import seaborn as sns"
   ]
  },
  {
   "cell_type": "code",
   "execution_count": 374,
   "metadata": {},
   "outputs": [
    {
     "name": "stdout",
     "output_type": "stream",
     "text": [
      "(44566, 50) Index(['Logische Periode ', ' Endzeitstempel ', ' Status ', ' Tarif ',\n",
      "       'location', 'adress', 'datetime', 'Wert', 'temp', 'temp_hamburg',\n",
      "       'temp_dresden', 'temp_berlin', 'datetimeYear', 'datetimeMonth',\n",
      "       'datetimeWeek', 'datetimeDay', 'datetimeDayofweek', 'datetimeDayofyear',\n",
      "       'datetimeHour', 'datetimeMinute', 'datetimeSecond', 'datetimeElapsed',\n",
      "       'lat', 'long', 'city', '48-lag', '24-lag', 'dif', 'temp.1', 'temp_min',\n",
      "       'temp_max', 'pressure', 'sea_level', 'grnd_level', 'humidity',\n",
      "       'wind_speed', 'wind_deg', 'rain_1h', 'rain_3h', 'rain_24h',\n",
      "       'rain_today', 'snow_1h', 'snow_3h', 'snow_24h', 'snow_today',\n",
      "       'clouds_all', 'weather_id', 'weather_main', 'weather_description',\n",
      "       'weather_icon'],\n",
      "      dtype='object')\n"
     ]
    },
    {
     "data": {
      "text/html": [
       "<div>\n",
       "<style scoped>\n",
       "    .dataframe tbody tr th:only-of-type {\n",
       "        vertical-align: middle;\n",
       "    }\n",
       "\n",
       "    .dataframe tbody tr th {\n",
       "        vertical-align: top;\n",
       "    }\n",
       "\n",
       "    .dataframe thead th {\n",
       "        text-align: right;\n",
       "    }\n",
       "</style>\n",
       "<table border=\"1\" class=\"dataframe\">\n",
       "  <thead>\n",
       "    <tr style=\"text-align: right;\">\n",
       "      <th></th>\n",
       "      <th>Logische Periode</th>\n",
       "      <th>Endzeitstempel</th>\n",
       "      <th>Status</th>\n",
       "      <th>Tarif</th>\n",
       "      <th>location</th>\n",
       "      <th>adress</th>\n",
       "      <th>datetime</th>\n",
       "      <th>Wert</th>\n",
       "      <th>temp</th>\n",
       "      <th>temp_hamburg</th>\n",
       "      <th>...</th>\n",
       "      <th>rain_today</th>\n",
       "      <th>snow_1h</th>\n",
       "      <th>snow_3h</th>\n",
       "      <th>snow_24h</th>\n",
       "      <th>snow_today</th>\n",
       "      <th>clouds_all</th>\n",
       "      <th>weather_id</th>\n",
       "      <th>weather_main</th>\n",
       "      <th>weather_description</th>\n",
       "      <th>weather_icon</th>\n",
       "    </tr>\n",
       "  </thead>\n",
       "  <tbody>\n",
       "    <tr>\n",
       "      <th>0</th>\n",
       "      <td>08.01.2019</td>\n",
       "      <td>07:00:00</td>\n",
       "      <td>W</td>\n",
       "      <td>tariflos</td>\n",
       "      <td>Joachim-Karnatz-Allee</td>\n",
       "      <td>10725 Berlin, Joachim-Karnatz-Allee 43</td>\n",
       "      <td>2019-01-08 07:00:00</td>\n",
       "      <td>858.660</td>\n",
       "      <td>6.64</td>\n",
       "      <td>279.15</td>\n",
       "      <td>...</td>\n",
       "      <td>NaN</td>\n",
       "      <td>NaN</td>\n",
       "      <td>NaN</td>\n",
       "      <td>NaN</td>\n",
       "      <td>NaN</td>\n",
       "      <td>20</td>\n",
       "      <td>801</td>\n",
       "      <td>Clouds</td>\n",
       "      <td>few clouds</td>\n",
       "      <td>02n</td>\n",
       "    </tr>\n",
       "    <tr>\n",
       "      <th>1</th>\n",
       "      <td>08.01.2019</td>\n",
       "      <td>07:00:00</td>\n",
       "      <td>W</td>\n",
       "      <td>tariflos</td>\n",
       "      <td>Tharandter Str.</td>\n",
       "      <td>Tharandter Str. 48, 01159 Dresden</td>\n",
       "      <td>2019-01-08 07:00:00</td>\n",
       "      <td>110.731</td>\n",
       "      <td>5.15</td>\n",
       "      <td>279.15</td>\n",
       "      <td>...</td>\n",
       "      <td>NaN</td>\n",
       "      <td>NaN</td>\n",
       "      <td>NaN</td>\n",
       "      <td>NaN</td>\n",
       "      <td>NaN</td>\n",
       "      <td>75</td>\n",
       "      <td>803</td>\n",
       "      <td>Clouds</td>\n",
       "      <td>broken clouds</td>\n",
       "      <td>04n</td>\n",
       "    </tr>\n",
       "    <tr>\n",
       "      <th>2</th>\n",
       "      <td>08.01.2019</td>\n",
       "      <td>07:00:00</td>\n",
       "      <td>W</td>\n",
       "      <td>tariflos</td>\n",
       "      <td>Lüttkamp</td>\n",
       "      <td>22715 Hamburg, Lüttkamp 5</td>\n",
       "      <td>2019-01-08 07:00:00</td>\n",
       "      <td>365.674</td>\n",
       "      <td>7.15</td>\n",
       "      <td>279.15</td>\n",
       "      <td>...</td>\n",
       "      <td>NaN</td>\n",
       "      <td>NaN</td>\n",
       "      <td>NaN</td>\n",
       "      <td>NaN</td>\n",
       "      <td>NaN</td>\n",
       "      <td>75</td>\n",
       "      <td>520</td>\n",
       "      <td>Rain</td>\n",
       "      <td>light intensity shower rain</td>\n",
       "      <td>09n</td>\n",
       "    </tr>\n",
       "    <tr>\n",
       "      <th>3</th>\n",
       "      <td>08.01.2019</td>\n",
       "      <td>07:00:00</td>\n",
       "      <td>W</td>\n",
       "      <td>tariflos</td>\n",
       "      <td>Flughafenstr.</td>\n",
       "      <td>22583 Hamburg, Flughafenstr. 7412</td>\n",
       "      <td>2019-01-08 07:00:00</td>\n",
       "      <td>174.427</td>\n",
       "      <td>7.15</td>\n",
       "      <td>279.15</td>\n",
       "      <td>...</td>\n",
       "      <td>NaN</td>\n",
       "      <td>NaN</td>\n",
       "      <td>NaN</td>\n",
       "      <td>NaN</td>\n",
       "      <td>NaN</td>\n",
       "      <td>75</td>\n",
       "      <td>520</td>\n",
       "      <td>Rain</td>\n",
       "      <td>light intensity shower rain</td>\n",
       "      <td>09n</td>\n",
       "    </tr>\n",
       "    <tr>\n",
       "      <th>4</th>\n",
       "      <td>08.01.2019</td>\n",
       "      <td>07:00:00</td>\n",
       "      <td>W</td>\n",
       "      <td>tariflos</td>\n",
       "      <td>Triftstr.</td>\n",
       "      <td>13296 Berlin, Triftstr. 31</td>\n",
       "      <td>2019-01-08 07:00:00</td>\n",
       "      <td>1191.334</td>\n",
       "      <td>6.64</td>\n",
       "      <td>279.15</td>\n",
       "      <td>...</td>\n",
       "      <td>NaN</td>\n",
       "      <td>NaN</td>\n",
       "      <td>NaN</td>\n",
       "      <td>NaN</td>\n",
       "      <td>NaN</td>\n",
       "      <td>20</td>\n",
       "      <td>801</td>\n",
       "      <td>Clouds</td>\n",
       "      <td>few clouds</td>\n",
       "      <td>02n</td>\n",
       "    </tr>\n",
       "  </tbody>\n",
       "</table>\n",
       "<p>5 rows × 50 columns</p>\n",
       "</div>"
      ],
      "text/plain": [
       "  Logische Periode   Endzeitstempel   Status      Tarif   \\\n",
       "0        08.01.2019         07:00:00        W  tariflos    \n",
       "1        08.01.2019         07:00:00        W  tariflos    \n",
       "2        08.01.2019         07:00:00        W  tariflos    \n",
       "3        08.01.2019         07:00:00        W  tariflos    \n",
       "4        08.01.2019         07:00:00        W  tariflos    \n",
       "\n",
       "                 location                                   adress  \\\n",
       "0  Joachim-Karnatz-Allee   10725 Berlin, Joachim-Karnatz-Allee 43    \n",
       "1         Tharandter Str.        Tharandter Str. 48, 01159 Dresden   \n",
       "2               Lüttkamp                22715 Hamburg, Lüttkamp 5    \n",
       "3          Flughafenstr.        22583 Hamburg, Flughafenstr. 7412    \n",
       "4              Triftstr.               13296 Berlin, Triftstr. 31    \n",
       "\n",
       "              datetime      Wert  temp  temp_hamburg  ...  rain_today  \\\n",
       "0  2019-01-08 07:00:00   858.660  6.64        279.15  ...         NaN   \n",
       "1  2019-01-08 07:00:00   110.731  5.15        279.15  ...         NaN   \n",
       "2  2019-01-08 07:00:00   365.674  7.15        279.15  ...         NaN   \n",
       "3  2019-01-08 07:00:00   174.427  7.15        279.15  ...         NaN   \n",
       "4  2019-01-08 07:00:00  1191.334  6.64        279.15  ...         NaN   \n",
       "\n",
       "   snow_1h  snow_3h  snow_24h  snow_today  clouds_all  weather_id  \\\n",
       "0      NaN      NaN       NaN         NaN          20         801   \n",
       "1      NaN      NaN       NaN         NaN          75         803   \n",
       "2      NaN      NaN       NaN         NaN          75         520   \n",
       "3      NaN      NaN       NaN         NaN          75         520   \n",
       "4      NaN      NaN       NaN         NaN          20         801   \n",
       "\n",
       "   weather_main          weather_description  weather_icon  \n",
       "0        Clouds                   few clouds           02n  \n",
       "1        Clouds                broken clouds           04n  \n",
       "2          Rain  light intensity shower rain           09n  \n",
       "3          Rain  light intensity shower rain           09n  \n",
       "4        Clouds                   few clouds           02n  \n",
       "\n",
       "[5 rows x 50 columns]"
      ]
     },
     "execution_count": 374,
     "metadata": {},
     "output_type": "execute_result"
    }
   ],
   "source": [
    "df = pd.read_csv('data/full_incl_temp.csv')\n",
    "print(df.shape, df.columns)\n",
    "df['temp']= df['temp']-272\n",
    "df.head()"
   ]
  },
  {
   "cell_type": "code",
   "execution_count": 353,
   "metadata": {},
   "outputs": [
    {
     "name": "stdout",
     "output_type": "stream",
     "text": [
      "(44566, 51)\n",
      "(42976, 51)\n"
     ]
    }
   ],
   "source": [
    "print(df.shape)\n",
    "df = df[df['Wert'] != 0]\n",
    "print(df.shape)"
   ]
  },
  {
   "cell_type": "code",
   "execution_count": 354,
   "metadata": {},
   "outputs": [],
   "source": [
    "df['48-lag'] = df['48-lag'].astype(float)\n",
    "df['dif'] = df['dif'].astype(float)\n",
    "df['Wert_log'] = np.log(df['Wert']).astype(float)\n",
    "df['temp'] = df['temp'].astype(float)"
   ]
  },
  {
   "cell_type": "code",
   "execution_count": 355,
   "metadata": {},
   "outputs": [
    {
     "data": {
      "text/html": [
       "<div>\n",
       "<style scoped>\n",
       "    .dataframe tbody tr th:only-of-type {\n",
       "        vertical-align: middle;\n",
       "    }\n",
       "\n",
       "    .dataframe tbody tr th {\n",
       "        vertical-align: top;\n",
       "    }\n",
       "\n",
       "    .dataframe thead th {\n",
       "        text-align: right;\n",
       "    }\n",
       "</style>\n",
       "<table border=\"1\" class=\"dataframe\">\n",
       "  <thead>\n",
       "    <tr style=\"text-align: right;\">\n",
       "      <th></th>\n",
       "      <th>Wert_log</th>\n",
       "      <th>location</th>\n",
       "      <th>datetimeMonth</th>\n",
       "      <th>datetimeDayofweek</th>\n",
       "      <th>datetimeDayofyear</th>\n",
       "      <th>datetimeHour</th>\n",
       "      <th>datetimeElapsed</th>\n",
       "      <th>city</th>\n",
       "      <th>48-lag</th>\n",
       "      <th>temp</th>\n",
       "    </tr>\n",
       "  </thead>\n",
       "  <tbody>\n",
       "  </tbody>\n",
       "</table>\n",
       "</div>"
      ],
      "text/plain": [
       "Empty DataFrame\n",
       "Columns: [Wert_log, location, datetimeMonth, datetimeDayofweek, datetimeDayofyear, datetimeHour, datetimeElapsed, city, 48-lag, temp]\n",
       "Index: []"
      ]
     },
     "execution_count": 355,
     "metadata": {},
     "output_type": "execute_result"
    }
   ],
   "source": [
    "cols = ['Wert_log', 'location', 'datetimeMonth', \n",
    "        'datetimeDayofweek', 'datetimeDayofyear', 'datetimeHour',\n",
    "         'datetimeElapsed', 'city', '48-lag','temp',\n",
    "#         'weather_main'\n",
    "       ]\n",
    "df_tab = df[cols].dropna()\n",
    "df_tab[df_tab.isnull().any(axis=1)]"
   ]
  },
  {
   "cell_type": "code",
   "execution_count": 356,
   "metadata": {},
   "outputs": [
    {
     "name": "stdout",
     "output_type": "stream",
     "text": [
      "4244 42540 0.0997649271274095\n",
      "(42540, 10)\n"
     ]
    }
   ],
   "source": [
    "valid_idx = [idx for idx,month,day in zip(range(len(df_tab)),list(df_tab.datetimeMonth),list(df_tab.datetimeDayofweek)) if ( np.random.rand()<.1)] \n",
    "print(len(valid_idx), len(df_tab), len(valid_idx)/len(df_tab))\n",
    "print(df_tab[cols].shape)"
   ]
  },
  {
   "cell_type": "code",
   "execution_count": 357,
   "metadata": {},
   "outputs": [
    {
     "name": "stdout",
     "output_type": "stream",
     "text": [
      "1.0.57\n"
     ]
    }
   ],
   "source": [
    "from fastai import *\n",
    "from fastai.tabular import *\n",
    "print(__version__)"
   ]
  },
  {
   "cell_type": "code",
   "execution_count": 358,
   "metadata": {},
   "outputs": [
    {
     "name": "stdout",
     "output_type": "stream",
     "text": [
      "4244 (42976, 51)\n"
     ]
    }
   ],
   "source": [
    "print(len(valid_idx),df.shape)\n",
    "cat_names = ['location','datetimeMonth','datetimeDayofweek','datetimeHour', 'city',\n",
    "#              'weather_main'\n",
    "            ]\n",
    "dep_var = 'Wert_log'"
   ]
  },
  {
   "cell_type": "code",
   "execution_count": 359,
   "metadata": {},
   "outputs": [],
   "source": [
    "\n",
    "procs = [FillMissing, Categorify, Normalize]\n",
    "data = TabularDataBunch.from_df('data', df_tab, dep_var, valid_idx=valid_idx, procs=procs, cat_names=cat_names)"
   ]
  },
  {
   "cell_type": "code",
   "execution_count": 360,
   "metadata": {},
   "outputs": [],
   "source": [
    "learn = tabular_learner(data,[32,32],metrics=[mean_absolute_error,exp_rmspe],\n",
    "#                         ,emb_szs={'City':5,'Country':5},\n",
    "                        ps=[0.001,0.01], emb_drop=0.04,\n",
    "                        callback_fns=ShowGraph\n",
    "                       )"
   ]
  },
  {
   "cell_type": "code",
   "execution_count": 361,
   "metadata": {},
   "outputs": [
    {
     "data": {
      "text/html": [],
      "text/plain": [
       "<IPython.core.display.HTML object>"
      ]
     },
     "metadata": {},
     "output_type": "display_data"
    },
    {
     "name": "stdout",
     "output_type": "stream",
     "text": [
      "LR Finder is complete, type {learner_name}.recorder.plot() to see the graph.\n"
     ]
    },
    {
     "data": {
      "image/png": "[encoded data removed]",
      "text/plain": [
       "<Figure size 432x288 with 1 Axes>"
      ]
     },
     "metadata": {
      "needs_background": "light"
     },
     "output_type": "display_data"
    }
   ],
   "source": [
    "learn.lr_find()\n",
    "learn.recorder.plot()"
   ]
  },
  {
   "cell_type": "code",
   "execution_count": 362,
   "metadata": {},
   "outputs": [
    {
     "data": {
      "text/html": [
       "Total time: 00:06 <p><table border=\"1\" class=\"dataframe\">\n",
       "  <thead>\n",
       "    <tr style=\"text-align: left;\">\n",
       "      <th>epoch</th>\n",
       "      <th>train_loss</th>\n",
       "      <th>valid_loss</th>\n",
       "      <th>mean_absolute_error</th>\n",
       "      <th>exp_rmspe</th>\n",
       "      <th>time</th>\n",
       "    </tr>\n",
       "  </thead>\n",
       "  <tbody>\n",
       "    <tr>\n",
       "      <td>0</td>\n",
       "      <td>0.206839</td>\n",
       "      <td>0.134682</td>\n",
       "      <td>0.235489</td>\n",
       "      <td>0.713807</td>\n",
       "      <td>00:06</td>\n",
       "    </tr>\n",
       "  </tbody>\n",
       "</table>"
      ],
      "text/plain": [
       "<IPython.core.display.HTML object>"
      ]
     },
     "metadata": {},
     "output_type": "display_data"
    },
    {
     "data": {
      "image/png": "[encoded data removed]",
      "text/plain": [
       "<Figure size 432x288 with 1 Axes>"
      ]
     },
     "metadata": {},
     "output_type": "display_data"
    }
   ],
   "source": [
    "learn.fit_one_cycle(1,.6)"
   ]
  },
  {
   "cell_type": "code",
   "execution_count": 363,
   "metadata": {},
   "outputs": [
    {
     "data": {
      "text/plain": [
       "[0.13468155, tensor(0.2355), tensor(0.7138)]"
      ]
     },
     "execution_count": 363,
     "metadata": {},
     "output_type": "execute_result"
    }
   ],
   "source": [
    "learn.validate()"
   ]
  },
  {
   "cell_type": "code",
   "execution_count": 364,
   "metadata": {},
   "outputs": [
    {
     "data": {
      "text/html": [],
      "text/plain": [
       "<IPython.core.display.HTML object>"
      ]
     },
     "metadata": {},
     "output_type": "display_data"
    },
    {
     "name": "stdout",
     "output_type": "stream",
     "text": [
      "LR Finder is complete, type {learner_name}.recorder.plot() to see the graph.\n"
     ]
    },
    {
     "data": {
      "image/png": "[encoded data removed]",
      "text/plain": [
       "<Figure size 432x288 with 1 Axes>"
      ]
     },
     "metadata": {
      "needs_background": "light"
     },
     "output_type": "display_data"
    }
   ],
   "source": [
    "learn.lr_find()\n",
    "learn.recorder.plot()"
   ]
  },
  {
   "cell_type": "code",
   "execution_count": 310,
   "metadata": {},
   "outputs": [
    {
     "data": {
      "text/html": [
       "Total time: 00:06 <p><table border=\"1\" class=\"dataframe\">\n",
       "  <thead>\n",
       "    <tr style=\"text-align: left;\">\n",
       "      <th>epoch</th>\n",
       "      <th>train_loss</th>\n",
       "      <th>valid_loss</th>\n",
       "      <th>mean_absolute_error</th>\n",
       "      <th>exp_rmspe</th>\n",
       "      <th>time</th>\n",
       "    </tr>\n",
       "  </thead>\n",
       "  <tbody>\n",
       "    <tr>\n",
       "      <td>0</td>\n",
       "      <td>0.329800</td>\n",
       "      <td>0.288466</td>\n",
       "      <td>0.293670</td>\n",
       "      <td>4.062454</td>\n",
       "      <td>00:06</td>\n",
       "    </tr>\n",
       "  </tbody>\n",
       "</table>"
      ],
      "text/plain": [
       "<IPython.core.display.HTML object>"
      ]
     },
     "metadata": {},
     "output_type": "display_data"
    },
    {
     "data": {
      "image/png": "[encoded data removed]",
      "text/plain": [
       "<Figure size 432x288 with 1 Axes>"
      ]
     },
     "metadata": {},
     "output_type": "display_data"
    }
   ],
   "source": [
    "learn.fit_one_cycle(1,3e-5)"
   ]
  },
  {
   "cell_type": "code",
   "execution_count": 311,
   "metadata": {},
   "outputs": [
    {
     "data": {
      "text/plain": [
       "[0.28846595, tensor(0.2937), tensor(4.0625)]"
      ]
     },
     "execution_count": 311,
     "metadata": {},
     "output_type": "execute_result"
    }
   ],
   "source": [
    "learn.validate()"
   ]
  },
  {
   "cell_type": "code",
   "execution_count": 312,
   "metadata": {},
   "outputs": [],
   "source": [
    "learn.save('new_data_log')"
   ]
  },
  {
   "cell_type": "code",
   "execution_count": 289,
   "metadata": {},
   "outputs": [],
   "source": [
    "learn.load('new_data_log');"
   ]
  },
  {
   "cell_type": "code",
   "execution_count": 290,
   "metadata": {},
   "outputs": [
    {
     "data": {
      "text/plain": [
       "3.853784062949676"
      ]
     },
     "execution_count": 290,
     "metadata": {},
     "output_type": "execute_result"
    }
   ],
   "source": [
    "np.log(df.dif+5).mean()"
   ]
  },
  {
   "cell_type": "code",
   "execution_count": 207,
   "metadata": {},
   "outputs": [
    {
     "data": {
      "text/plain": [
       "79.89161610603333"
      ]
     },
     "execution_count": 207,
     "metadata": {},
     "output_type": "execute_result"
    }
   ],
   "source": [
    "100-(learn.validate()[1]/np.log(df.dif.mean())+.1).numpy()*100"
   ]
  },
  {
   "cell_type": "code",
   "execution_count": 55,
   "metadata": {},
   "outputs": [
    {
     "data": {
      "text/plain": [
       "16.65106878130051"
      ]
     },
     "execution_count": 55,
     "metadata": {},
     "output_type": "execute_result"
    }
   ],
   "source": [
    "100-(79.5499/95.44201567656432)*100"
   ]
  },
  {
   "cell_type": "code",
   "execution_count": 365,
   "metadata": {},
   "outputs": [],
   "source": [
    "df_pred = df.loc[:,cols+['Wert']].dropna()\n",
    "datatest = TabularList.from_df(df_pred, cat_names=cat_names,  procs=procs)\n",
    "learn.data.add_test(datatest) \n",
    "# # print(learn.data)\n",
    "preds, targets = learn.get_preds(DatasetType.Test)"
   ]
  },
  {
   "cell_type": "code",
   "execution_count": 366,
   "metadata": {},
   "outputs": [
    {
     "name": "stdout",
     "output_type": "stream",
     "text": [
      "tensor(5.7326) tensor(1.2667)\n"
     ]
    },
    {
     "data": {
      "text/plain": [
       "<matplotlib.axes._subplots.AxesSubplot at 0x7fb825ca8128>"
      ]
     },
     "execution_count": 366,
     "metadata": {},
     "output_type": "execute_result"
    },
    {
     "data": {
      "image/png": "[encoded data removed]",
      "text/plain": [
       "<Figure size 432x288 with 1 Axes>"
      ]
     },
     "metadata": {
      "needs_background": "light"
     },
     "output_type": "display_data"
    }
   ],
   "source": [
    "print(preds[:,0].mean(), preds[:,0].std())\n",
    "sns.distplot(list(preds[:,0]))"
   ]
  },
  {
   "cell_type": "code",
   "execution_count": 367,
   "metadata": {},
   "outputs": [
    {
     "data": {
      "text/plain": [
       "<matplotlib.axes._subplots.AxesSubplot at 0x7fb825396128>"
      ]
     },
     "execution_count": 367,
     "metadata": {},
     "output_type": "execute_result"
    },
    {
     "data": {
      "image/png": "[encoded data removed]",
      "text/plain": [
       "<Figure size 432x288 with 1 Axes>"
      ]
     },
     "metadata": {
      "needs_background": "light"
     },
     "output_type": "display_data"
    }
   ],
   "source": [
    "sns.distplot(df_pred['Wert_log'])"
   ]
  },
  {
   "cell_type": "code",
   "execution_count": 368,
   "metadata": {},
   "outputs": [
    {
     "data": {
      "text/plain": [
       "(699.7764282226562, 1123.871826171875)"
      ]
     },
     "execution_count": 368,
     "metadata": {},
     "output_type": "execute_result"
    }
   ],
   "source": [
    "df_pred['predicted'] = np.exp(list(preds[:,0]))-5\n",
    "df_pred['predicted'].mean(), df_pred['predicted'].std()"
   ]
  },
  {
   "cell_type": "code",
   "execution_count": 371,
   "metadata": {},
   "outputs": [
    {
     "data": {
      "text/plain": [
       "<matplotlib.axes._subplots.AxesSubplot at 0x7fb825aa6b00>"
      ]
     },
     "execution_count": 371,
     "metadata": {},
     "output_type": "execute_result"
    },
    {
     "data": {
      "image/png": "[encoded data removed]",
      "text/plain": [
       "<Figure size 432x288 with 1 Axes>"
      ]
     },
     "metadata": {
      "needs_background": "light"
     },
     "output_type": "display_data"
    }
   ],
   "source": [
    "df_pred.loc[:100,['Wert','predicted']].plot(marker='*')"
   ]
  },
  {
   "cell_type": "code",
   "execution_count": 372,
   "metadata": {},
   "outputs": [
    {
     "name": "stdout",
     "output_type": "stream",
     "text": [
      "113.30122392693085 110.04433862247333\n"
     ]
    }
   ],
   "source": [
    "df_pred['dif_tako'] = abs(df_pred['predicted'] - df_pred['Wert'])\n",
    "df_pred['dif_guido'] = abs(df_pred['48-lag'] - df_pred['Wert'])\n",
    "print(df_pred['dif_tako'].mean(),df_pred['dif_guido'].mean())"
   ]
  },
  {
   "cell_type": "code",
   "execution_count": 373,
   "metadata": {},
   "outputs": [],
   "source": [
    "df_pred.to_csv('predicted_boosted_wert.csv',index=False)"
   ]
  },
  {
   "cell_type": "code",
   "execution_count": 48,
   "metadata": {},
   "outputs": [
    {
     "data": {
      "text/plain": [
       "Index(['Wert', 'location', 'datetimeMonth', 'datetimeDayofweek',\n",
       "       'datetimeDayofyear', 'datetimeHour', 'datetimeElapsed', 'city',\n",
       "       '48-lag', 'temp', 'predicted', 'dif_tako', 'dif_guido'],\n",
       "      dtype='object')"
      ]
     },
     "execution_count": 48,
     "metadata": {},
     "output_type": "execute_result"
    }
   ],
   "source": [
    "df_pred.columns"
   ]
  },
  {
   "cell_type": "code",
   "execution_count": 72,
   "metadata": {},
   "outputs": [
    {
     "data": {
      "text/plain": [
       "8.6847385"
      ]
     },
     "execution_count": 72,
     "metadata": {},
     "output_type": "execute_result"
    }
   ],
   "source": [
    "a = (df_pred[df['location']=='Bottroper Weg'].Wert.sum())\n",
    "a/1000000"
   ]
  },
  {
   "cell_type": "code",
   "execution_count": 73,
   "metadata": {},
   "outputs": [],
   "source": [
    "a = a*40\n",
    "a = a*1.02264"
   ]
  },
  {
   "cell_type": "code",
   "execution_count": 78,
   "metadata": {},
   "outputs": [],
   "source": [
    "a = a/3.6"
   ]
  },
  {
   "cell_type": "code",
   "execution_count": 79,
   "metadata": {},
   "outputs": [
    {
     "data": {
      "text/plain": [
       "98.68178866266666"
      ]
     },
     "execution_count": 79,
     "metadata": {},
     "output_type": "execute_result"
    }
   ],
   "source": [
    "a/1000000"
   ]
  },
  {
   "cell_type": "code",
   "execution_count": null,
   "metadata": {},
   "outputs": [],
   "source": []
  }
 ],
 "metadata": {
  "kernelspec": {
   "display_name": "env_lan",
   "language": "python",
   "name": "env_lan"
  },
  "language_info": {
   "codemirror_mode": {
    "name": "ipython",
    "version": 3
   },
   "file_extension": ".py",
   "mimetype": "text/x-python",
   "name": "python",
   "nbconvert_exporter": "python",
   "pygments_lexer": "ipython3",
   "version": "3.6.8"
  }
 },
 "nbformat": 4,
 "nbformat_minor": 2
}
