{
 "cells": [
  {
   "cell_type": "code",
   "execution_count": 1,
   "metadata": {},
   "outputs": [],
   "source": [
    "import time\n",
    "import numpy as np\n",
    "import pandas as pd\n",
    "import matplotlib.pyplot as plt"
   ]
  },
  {
   "cell_type": "code",
   "execution_count": 57,
   "metadata": {},
   "outputs": [],
   "source": [
    "df = pd.read_csv('./data/full_data.csv',decimal=\",\")"
   ]
  },
  {
   "cell_type": "code",
   "execution_count": 58,
   "metadata": {},
   "outputs": [
    {
     "data": {
      "text/html": [
       "<div>\n",
       "<style scoped>\n",
       "    .dataframe tbody tr th:only-of-type {\n",
       "        vertical-align: middle;\n",
       "    }\n",
       "\n",
       "    .dataframe tbody tr th {\n",
       "        vertical-align: top;\n",
       "    }\n",
       "\n",
       "    .dataframe thead th {\n",
       "        text-align: right;\n",
       "    }\n",
       "</style>\n",
       "<table border=\"1\" class=\"dataframe\">\n",
       "  <thead>\n",
       "    <tr style=\"text-align: right;\">\n",
       "      <th></th>\n",
       "      <th>Logische Periode</th>\n",
       "      <th>Endzeitstempel</th>\n",
       "      <th>Wert</th>\n",
       "      <th>Status</th>\n",
       "      <th>Tarif</th>\n",
       "      <th>location</th>\n",
       "      <th>adress</th>\n",
       "    </tr>\n",
       "  </thead>\n",
       "  <tbody>\n",
       "    <tr>\n",
       "      <th>0</th>\n",
       "      <td>01.01.2019</td>\n",
       "      <td>07:00:00</td>\n",
       "      <td>0.0</td>\n",
       "      <td>N</td>\n",
       "      <td></td>\n",
       "      <td>Bottroper Weg</td>\n",
       "      <td>Bottroper Weg 8, 13507 Berlin</td>\n",
       "    </tr>\n",
       "    <tr>\n",
       "      <th>1</th>\n",
       "      <td>01.01.2019</td>\n",
       "      <td>08:00:00</td>\n",
       "      <td>0.0</td>\n",
       "      <td>N</td>\n",
       "      <td></td>\n",
       "      <td>Bottroper Weg</td>\n",
       "      <td>Bottroper Weg 8, 13507 Berlin</td>\n",
       "    </tr>\n",
       "    <tr>\n",
       "      <th>2</th>\n",
       "      <td>01.01.2019</td>\n",
       "      <td>09:00:00</td>\n",
       "      <td>0.0</td>\n",
       "      <td>N</td>\n",
       "      <td></td>\n",
       "      <td>Bottroper Weg</td>\n",
       "      <td>Bottroper Weg 8, 13507 Berlin</td>\n",
       "    </tr>\n",
       "    <tr>\n",
       "      <th>3</th>\n",
       "      <td>01.01.2019</td>\n",
       "      <td>10:00:00</td>\n",
       "      <td>0.0</td>\n",
       "      <td>N</td>\n",
       "      <td></td>\n",
       "      <td>Bottroper Weg</td>\n",
       "      <td>Bottroper Weg 8, 13507 Berlin</td>\n",
       "    </tr>\n",
       "    <tr>\n",
       "      <th>4</th>\n",
       "      <td>01.01.2019</td>\n",
       "      <td>11:00:00</td>\n",
       "      <td>0.0</td>\n",
       "      <td>N</td>\n",
       "      <td></td>\n",
       "      <td>Bottroper Weg</td>\n",
       "      <td>Bottroper Weg 8, 13507 Berlin</td>\n",
       "    </tr>\n",
       "  </tbody>\n",
       "</table>\n",
       "</div>"
      ],
      "text/plain": [
       "  Logische Periode   Endzeitstempel    Wert   Status   Tarif        location  \\\n",
       "0        01.01.2019         07:00:00     0.0        N          Bottroper Weg   \n",
       "1        01.01.2019         08:00:00     0.0        N          Bottroper Weg   \n",
       "2        01.01.2019         09:00:00     0.0        N          Bottroper Weg   \n",
       "3        01.01.2019         10:00:00     0.0        N          Bottroper Weg   \n",
       "4        01.01.2019         11:00:00     0.0        N          Bottroper Weg   \n",
       "\n",
       "                          adress  \n",
       "0  Bottroper Weg 8, 13507 Berlin  \n",
       "1  Bottroper Weg 8, 13507 Berlin  \n",
       "2  Bottroper Weg 8, 13507 Berlin  \n",
       "3  Bottroper Weg 8, 13507 Berlin  \n",
       "4  Bottroper Weg 8, 13507 Berlin  "
      ]
     },
     "execution_count": 58,
     "metadata": {},
     "output_type": "execute_result"
    }
   ],
   "source": [
    "df.head()"
   ]
  },
  {
   "cell_type": "code",
   "execution_count": 59,
   "metadata": {},
   "outputs": [
    {
     "data": {
      "text/plain": [
       "((47416, 7),\n",
       " Index(['Logische Periode ', ' Endzeitstempel ', ' Wert ', ' Status ',\n",
       "        ' Tarif ', 'location', 'adress'],\n",
       "       dtype='object'))"
      ]
     },
     "execution_count": 59,
     "metadata": {},
     "output_type": "execute_result"
    }
   ],
   "source": [
    "df.shape,df.columns"
   ]
  },
  {
   "cell_type": "code",
   "execution_count": 60,
   "metadata": {},
   "outputs": [],
   "source": [
    "df['datetime'] = df['Logische Periode ']+' '+df[' Endzeitstempel ']\n",
    "df['datetime'] = pd.to_datetime(df.datetime, format='%d.%m.%Y %H:%M:%S')"
   ]
  },
  {
   "cell_type": "code",
   "execution_count": 61,
   "metadata": {},
   "outputs": [],
   "source": [
    "import re\n",
    "def add_datepart(df, fldname, drop=True, time=False):\n",
    "    \"Helper function that adds columns relevant to a date.\"\n",
    "    fld = df[fldname]\n",
    "#     fld_dtype = fld.dtypes[0]\n",
    "    \n",
    "#     if not np.issubdtype(fld_dtype, np.datetime64):\n",
    "#         df[fldname] = fld = pd.to_datetime(fld, infer_datetime_format=True)\n",
    "        \n",
    "    targ_pre = re.sub('[Dd]ate$', '', fldname)\n",
    "    attr = ['Year', 'Month', 'Week', 'Day', 'Dayofweek', 'Dayofyear',\n",
    "#             'Is_month_end', 'Is_month_start', 'Is_quarter_end', 'Is_quarter_start', 'Is_year_end', 'Is_year_start'\n",
    "           ]\n",
    "    if time: attr = attr + ['Hour', 'Minute', 'Second']\n",
    "    for n in attr: df[targ_pre + n] = getattr(fld.dt, n.lower())\n",
    "    df[targ_pre + 'Elapsed'] = fld.astype(np.int64) // 10 ** 9\n",
    "    if drop: df.drop(fldname, axis=1, inplace=True)"
   ]
  },
  {
   "cell_type": "code",
   "execution_count": 62,
   "metadata": {},
   "outputs": [
    {
     "data": {
      "text/html": [
       "<div>\n",
       "<style scoped>\n",
       "    .dataframe tbody tr th:only-of-type {\n",
       "        vertical-align: middle;\n",
       "    }\n",
       "\n",
       "    .dataframe tbody tr th {\n",
       "        vertical-align: top;\n",
       "    }\n",
       "\n",
       "    .dataframe thead th {\n",
       "        text-align: right;\n",
       "    }\n",
       "</style>\n",
       "<table border=\"1\" class=\"dataframe\">\n",
       "  <thead>\n",
       "    <tr style=\"text-align: right;\">\n",
       "      <th></th>\n",
       "      <th>Logische Periode</th>\n",
       "      <th>Endzeitstempel</th>\n",
       "      <th>Wert</th>\n",
       "      <th>Status</th>\n",
       "      <th>Tarif</th>\n",
       "      <th>location</th>\n",
       "      <th>adress</th>\n",
       "      <th>datetime</th>\n",
       "      <th>datetimeYear</th>\n",
       "      <th>datetimeMonth</th>\n",
       "      <th>datetimeWeek</th>\n",
       "      <th>datetimeDay</th>\n",
       "      <th>datetimeDayofweek</th>\n",
       "      <th>datetimeDayofyear</th>\n",
       "      <th>datetimeHour</th>\n",
       "      <th>datetimeMinute</th>\n",
       "      <th>datetimeSecond</th>\n",
       "      <th>datetimeElapsed</th>\n",
       "    </tr>\n",
       "  </thead>\n",
       "  <tbody>\n",
       "    <tr>\n",
       "      <th>0</th>\n",
       "      <td>01.01.2019</td>\n",
       "      <td>07:00:00</td>\n",
       "      <td>0.0</td>\n",
       "      <td>N</td>\n",
       "      <td></td>\n",
       "      <td>Bottroper Weg</td>\n",
       "      <td>Bottroper Weg 8, 13507 Berlin</td>\n",
       "      <td>2019-01-01 07:00:00</td>\n",
       "      <td>2019</td>\n",
       "      <td>1</td>\n",
       "      <td>1</td>\n",
       "      <td>1</td>\n",
       "      <td>1</td>\n",
       "      <td>1</td>\n",
       "      <td>7</td>\n",
       "      <td>0</td>\n",
       "      <td>0</td>\n",
       "      <td>1546326000</td>\n",
       "    </tr>\n",
       "    <tr>\n",
       "      <th>1</th>\n",
       "      <td>01.01.2019</td>\n",
       "      <td>08:00:00</td>\n",
       "      <td>0.0</td>\n",
       "      <td>N</td>\n",
       "      <td></td>\n",
       "      <td>Bottroper Weg</td>\n",
       "      <td>Bottroper Weg 8, 13507 Berlin</td>\n",
       "      <td>2019-01-01 08:00:00</td>\n",
       "      <td>2019</td>\n",
       "      <td>1</td>\n",
       "      <td>1</td>\n",
       "      <td>1</td>\n",
       "      <td>1</td>\n",
       "      <td>1</td>\n",
       "      <td>8</td>\n",
       "      <td>0</td>\n",
       "      <td>0</td>\n",
       "      <td>1546329600</td>\n",
       "    </tr>\n",
       "    <tr>\n",
       "      <th>2</th>\n",
       "      <td>01.01.2019</td>\n",
       "      <td>09:00:00</td>\n",
       "      <td>0.0</td>\n",
       "      <td>N</td>\n",
       "      <td></td>\n",
       "      <td>Bottroper Weg</td>\n",
       "      <td>Bottroper Weg 8, 13507 Berlin</td>\n",
       "      <td>2019-01-01 09:00:00</td>\n",
       "      <td>2019</td>\n",
       "      <td>1</td>\n",
       "      <td>1</td>\n",
       "      <td>1</td>\n",
       "      <td>1</td>\n",
       "      <td>1</td>\n",
       "      <td>9</td>\n",
       "      <td>0</td>\n",
       "      <td>0</td>\n",
       "      <td>1546333200</td>\n",
       "    </tr>\n",
       "    <tr>\n",
       "      <th>3</th>\n",
       "      <td>01.01.2019</td>\n",
       "      <td>10:00:00</td>\n",
       "      <td>0.0</td>\n",
       "      <td>N</td>\n",
       "      <td></td>\n",
       "      <td>Bottroper Weg</td>\n",
       "      <td>Bottroper Weg 8, 13507 Berlin</td>\n",
       "      <td>2019-01-01 10:00:00</td>\n",
       "      <td>2019</td>\n",
       "      <td>1</td>\n",
       "      <td>1</td>\n",
       "      <td>1</td>\n",
       "      <td>1</td>\n",
       "      <td>1</td>\n",
       "      <td>10</td>\n",
       "      <td>0</td>\n",
       "      <td>0</td>\n",
       "      <td>1546336800</td>\n",
       "    </tr>\n",
       "    <tr>\n",
       "      <th>4</th>\n",
       "      <td>01.01.2019</td>\n",
       "      <td>11:00:00</td>\n",
       "      <td>0.0</td>\n",
       "      <td>N</td>\n",
       "      <td></td>\n",
       "      <td>Bottroper Weg</td>\n",
       "      <td>Bottroper Weg 8, 13507 Berlin</td>\n",
       "      <td>2019-01-01 11:00:00</td>\n",
       "      <td>2019</td>\n",
       "      <td>1</td>\n",
       "      <td>1</td>\n",
       "      <td>1</td>\n",
       "      <td>1</td>\n",
       "      <td>1</td>\n",
       "      <td>11</td>\n",
       "      <td>0</td>\n",
       "      <td>0</td>\n",
       "      <td>1546340400</td>\n",
       "    </tr>\n",
       "  </tbody>\n",
       "</table>\n",
       "</div>"
      ],
      "text/plain": [
       "  Logische Periode   Endzeitstempel    Wert   Status   Tarif        location  \\\n",
       "0        01.01.2019         07:00:00     0.0        N          Bottroper Weg   \n",
       "1        01.01.2019         08:00:00     0.0        N          Bottroper Weg   \n",
       "2        01.01.2019         09:00:00     0.0        N          Bottroper Weg   \n",
       "3        01.01.2019         10:00:00     0.0        N          Bottroper Weg   \n",
       "4        01.01.2019         11:00:00     0.0        N          Bottroper Weg   \n",
       "\n",
       "                          adress            datetime  datetimeYear  \\\n",
       "0  Bottroper Weg 8, 13507 Berlin 2019-01-01 07:00:00          2019   \n",
       "1  Bottroper Weg 8, 13507 Berlin 2019-01-01 08:00:00          2019   \n",
       "2  Bottroper Weg 8, 13507 Berlin 2019-01-01 09:00:00          2019   \n",
       "3  Bottroper Weg 8, 13507 Berlin 2019-01-01 10:00:00          2019   \n",
       "4  Bottroper Weg 8, 13507 Berlin 2019-01-01 11:00:00          2019   \n",
       "\n",
       "   datetimeMonth  datetimeWeek  datetimeDay  datetimeDayofweek  \\\n",
       "0              1             1            1                  1   \n",
       "1              1             1            1                  1   \n",
       "2              1             1            1                  1   \n",
       "3              1             1            1                  1   \n",
       "4              1             1            1                  1   \n",
       "\n",
       "   datetimeDayofyear  datetimeHour  datetimeMinute  datetimeSecond  \\\n",
       "0                  1             7               0               0   \n",
       "1                  1             8               0               0   \n",
       "2                  1             9               0               0   \n",
       "3                  1            10               0               0   \n",
       "4                  1            11               0               0   \n",
       "\n",
       "   datetimeElapsed  \n",
       "0       1546326000  \n",
       "1       1546329600  \n",
       "2       1546333200  \n",
       "3       1546336800  \n",
       "4       1546340400  "
      ]
     },
     "execution_count": 62,
     "metadata": {},
     "output_type": "execute_result"
    }
   ],
   "source": [
    "add_datepart(df,'datetime',time=True,drop=False)\n",
    "df.head()"
   ]
  },
  {
   "cell_type": "code",
   "execution_count": 63,
   "metadata": {},
   "outputs": [
    {
     "data": {
      "text/plain": [
       "Index(['Logische Periode ', ' Endzeitstempel ', ' Status ', ' Tarif ',\n",
       "       'location', 'adress', 'datetime', 'datetimeYear', 'datetimeMonth',\n",
       "       'datetimeWeek', 'datetimeDay', 'datetimeDayofweek', 'datetimeDayofyear',\n",
       "       'datetimeHour', 'datetimeMinute', 'datetimeSecond', 'datetimeElapsed',\n",
       "       'Wert'],\n",
       "      dtype='object')"
      ]
     },
     "execution_count": 63,
     "metadata": {},
     "output_type": "execute_result"
    }
   ],
   "source": [
    "df['Wert'] = df[' Wert ']\n",
    "del df[' Wert ']\n",
    "df.columns"
   ]
  },
  {
   "cell_type": "code",
   "execution_count": 64,
   "metadata": {},
   "outputs": [
    {
     "data": {
      "text/plain": [
       "{1, 2, 3, 4, 5, 6, 7, 8, 9}"
      ]
     },
     "execution_count": 64,
     "metadata": {},
     "output_type": "execute_result"
    }
   ],
   "source": [
    "set(df.datetimeMonth)"
   ]
  },
  {
   "cell_type": "code",
   "execution_count": 65,
   "metadata": {},
   "outputs": [
    {
     "name": "stdout",
     "output_type": "stream",
     "text": [
      "12426 47314 0.26262839751447775\n",
      "[47214, 47215, 47216, 47217, 47218, 47219, 47220, 47221, 47222, 47223, 47224, 47225, 47226, 47227, 47228, 47229, 47230, 47231, 47232, 47233, 47234, 47235, 47236, 47237, 47238, 47239, 47240, 47241, 47242, 47243, 47244, 47245, 47246, 47247, 47248, 47249, 47250, 47251, 47252, 47253, 47254, 47255, 47256, 47257, 47258, 47259, 47260, 47261, 47262, 47263, 47264, 47265, 47266, 47267, 47268, 47269, 47270, 47271, 47272, 47273, 47274, 47275, 47276, 47277, 47278, 47279, 47280, 47281, 47282, 47283, 47284, 47285, 47286, 47287, 47288, 47289, 47290, 47291, 47292, 47293, 47294, 47295, 47296, 47297, 47298, 47299, 47300, 47301, 47302, 47303, 47304, 47305, 47306, 47307, 47308, 47309, 47310, 47311, 47312, 47313]\n",
      "(47314, 12)\n"
     ]
    }
   ],
   "source": [
    "df = df.loc[:,['Wert', 'location', 'datetimeYear', 'datetimeMonth', 'datetimeWeek',\n",
    "       'datetimeDay', 'datetimeDayofweek', 'datetimeDayofyear', 'datetimeHour',\n",
    "       'datetimeMinute', 'datetimeSecond', 'datetimeElapsed', ]].dropna()\n",
    "\n",
    "valid_idx =[idx for idx,month,day in zip(range(len(df)),list(df.datetimeMonth),list(df.datetimeDayofweek)) if (month >7 or day == 6)] \n",
    "print(len(valid_idx), len(df), len(valid_idx)/len(df))\n",
    "print(valid_idx[-100:])\n",
    "print(df.shape)"
   ]
  },
  {
   "cell_type": "code",
   "execution_count": 66,
   "metadata": {},
   "outputs": [],
   "source": [
    "from fastai import *\n",
    "from fastai.tabular import *"
   ]
  },
  {
   "cell_type": "code",
   "execution_count": 67,
   "metadata": {},
   "outputs": [
    {
     "name": "stdout",
     "output_type": "stream",
     "text": [
      "12426 (47314, 12)\n"
     ]
    }
   ],
   "source": [
    "print(len(valid_idx),df.shape)\n",
    "cat_names = ['location','datetimeMonth','datetimeDayofweek' ]\n",
    "dep_var = 'Wert'"
   ]
  },
  {
   "cell_type": "code",
   "execution_count": 68,
   "metadata": {},
   "outputs": [],
   "source": [
    "procs = [FillMissing, Categorify, Normalize]\n",
    "data = TabularDataBunch.from_df('data', df, dep_var, valid_idx=valid_idx, procs=procs, cat_names=cat_names)"
   ]
  },
  {
   "cell_type": "code",
   "execution_count": 69,
   "metadata": {},
   "outputs": [],
   "source": [
    "learn = tabular_learner(data,[32,32],metrics=mean_absolute_error,\n",
    "#                         ,emb_szs={'City':5,'Country':5},\n",
    "                        callback_fns=ShowGraph)"
   ]
  },
  {
   "cell_type": "code",
   "execution_count": 70,
   "metadata": {},
   "outputs": [
    {
     "data": {
      "text/html": [],
      "text/plain": [
       "<IPython.core.display.HTML object>"
      ]
     },
     "metadata": {},
     "output_type": "display_data"
    },
    {
     "name": "stdout",
     "output_type": "stream",
     "text": [
      "LR Finder is complete, type {learner_name}.recorder.plot() to see the graph.\n"
     ]
    },
    {
     "data": {
      "image/png": "[encoded data removed]",
      "text/plain": [
       "<Figure size 432x288 with 1 Axes>"
      ]
     },
     "metadata": {
      "needs_background": "light"
     },
     "output_type": "display_data"
    }
   ],
   "source": [
    "learn.lr_find()\n",
    "learn.recorder.plot()"
   ]
  },
  {
   "cell_type": "code",
   "execution_count": 71,
   "metadata": {},
   "outputs": [
    {
     "data": {
      "text/html": [
       "Total time: 00:05 <p><table border=\"1\" class=\"dataframe\">\n",
       "  <thead>\n",
       "    <tr style=\"text-align: left;\">\n",
       "      <th>epoch</th>\n",
       "      <th>train_loss</th>\n",
       "      <th>valid_loss</th>\n",
       "      <th>mean_absolute_error</th>\n",
       "      <th>time</th>\n",
       "    </tr>\n",
       "  </thead>\n",
       "  <tbody>\n",
       "    <tr>\n",
       "      <td>0</td>\n",
       "      <td>111736.039062</td>\n",
       "      <td>44947.550781</td>\n",
       "      <td>119.476082</td>\n",
       "      <td>00:04</td>\n",
       "    </tr>\n",
       "  </tbody>\n",
       "</table>"
      ],
      "text/plain": [
       "<IPython.core.display.HTML object>"
      ]
     },
     "metadata": {},
     "output_type": "display_data"
    },
    {
     "data": {
      "image/png": "[encoded data removed]",
      "text/plain": [
       "<Figure size 432x288 with 1 Axes>"
      ]
     },
     "metadata": {},
     "output_type": "display_data"
    }
   ],
   "source": [
    "learn.fit_one_cycle(1,1e-1)"
   ]
  },
  {
   "cell_type": "code",
   "execution_count": 72,
   "metadata": {},
   "outputs": [
    {
     "data": {
      "text/plain": [
       "[44947.55, tensor(119.4761)]"
      ]
     },
     "execution_count": 72,
     "metadata": {},
     "output_type": "execute_result"
    }
   ],
   "source": [
    "learn.validate()"
   ]
  },
  {
   "cell_type": "code",
   "execution_count": 123,
   "metadata": {},
   "outputs": [
    {
     "name": "stdout",
     "output_type": "stream",
     "text": [
      "AverageTemperature           28.449\n",
      "City                        Abidjan\n",
      "Country               Côte D'Ivoire\n",
      "dtYear                         1958\n",
      "dtMonth                           3\n",
      "dtWeek                            9\n",
      "dtDay                             1\n",
      "dtDayofweek                       5\n",
      "dtDayofyear                      60\n",
      "dtElapsed                -373593600\n",
      "Name: 1310, dtype: object\n"
     ]
    },
    {
     "data": {
      "text/plain": [
       "(FloatItem [27.449913], tensor([27.4499]), tensor([27.4499]))"
      ]
     },
     "execution_count": 123,
     "metadata": {},
     "output_type": "execute_result"
    }
   ],
   "source": [
    "print(df.iloc[1111,:])\n",
    "learn.predict(df.iloc[1111,:])"
   ]
  },
  {
   "cell_type": "markdown",
   "metadata": {},
   "source": [
    "TODO interpert where errors are"
   ]
  },
  {
   "cell_type": "code",
   "execution_count": null,
   "metadata": {},
   "outputs": [],
   "source": []
  }
 ],
 "metadata": {
  "kernelspec": {
   "display_name": "env_lan",
   "language": "python",
   "name": "env_lan"
  },
  "language_info": {
   "codemirror_mode": {
    "name": "ipython",
    "version": 3
   },
   "file_extension": ".py",
   "mimetype": "text/x-python",
   "name": "python",
   "nbconvert_exporter": "python",
   "pygments_lexer": "ipython3",
   "version": "3.6.8"
  }
 },
 "nbformat": 4,
 "nbformat_minor": 2
}
